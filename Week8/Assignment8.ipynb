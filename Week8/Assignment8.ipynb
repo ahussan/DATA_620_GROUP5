{
 "cells": [
  {
   "cell_type": "markdown",
   "metadata": {},
   "source": [
    "## Data 620 - Week 8\n",
    "\n",
    "\n",
    "\n",
    "By Anjal Hussan, Zhouxin Shi, Chunjie Nan\n",
    "\n",
    "### Video Presentation\n",
    "\n",
    "\n",
    "\n",
    "### Assignment\n",
    "\n",
    "In this week's assignment, you are asked to analyze high frequency words.\n",
    "Please answer the fo llowing questions in an Jupyter Notebook, posted to GitHub.\n",
    "1.\tChoose a corpus of interest.\n",
    "2.\tHow many total unique words are in the corpus?  (Please feel free to define unique words in any interesting, defensible way).\n",
    "3.\tTaking the most common words, how many unique words represent half of the total words in the corpus?Identify the 200 highest frequency words in this corpus.\n",
    "4.\tCreate a graph that shows the relative frequency of these 200 words.\n",
    "5.\tDoes the observed relative frequency of these words follow Zipf’s law? Explain.\n",
    "6.\tIn what ways do you think the frequency of the words in this corpus differ from “all words in all corpora.”\n",
    "\n",
    "----\n"
   ]
  },
  {
   "cell_type": "code",
   "execution_count": 1,
   "metadata": {},
   "outputs": [
    {
     "name": "stderr",
     "output_type": "stream",
     "text": [
      "[nltk_data] Downloading package gutenberg to\n",
      "[nltk_data]     C:\\Users\\jshi3\\AppData\\Roaming\\nltk_data...\n",
      "[nltk_data]   Package gutenberg is already up-to-date!\n",
      "[nltk_data] Downloading package punkt to\n",
      "[nltk_data]     C:\\Users\\jshi3\\AppData\\Roaming\\nltk_data...\n",
      "[nltk_data]   Package punkt is already up-to-date!\n",
      "[nltk_data] Downloading package stopwords to\n",
      "[nltk_data]     C:\\Users\\jshi3\\AppData\\Roaming\\nltk_data...\n",
      "[nltk_data]   Package stopwords is already up-to-date!\n"
     ]
    },
    {
     "data": {
      "text/plain": [
       "True"
      ]
     },
     "execution_count": 1,
     "metadata": {},
     "output_type": "execute_result"
    }
   ],
   "source": [
    "import nltk\n",
    "import pandas as pd\n",
    "from nltk.corpus import gutenberg\n",
    "from nltk.corpus import stopwords\n",
    "import matplotlib.pyplot as plt\n",
    "nltk.download('gutenberg')\n",
    "nltk.download('punkt') #sentence tokenizer\n",
    "nltk.download('stopwords')"
   ]
  },
  {
   "cell_type": "markdown",
   "metadata": {},
   "source": [
    "### (1) Choose a corpus of interest.\n",
    "\n",
    "The text 'austen-emma.txt' contains <b>192,427</b> words (not unique and before any word removal)"
   ]
  },
  {
   "cell_type": "code",
   "execution_count": 2,
   "metadata": {
    "scrolled": true
   },
   "outputs": [
    {
     "data": {
      "text/plain": [
       "192427"
      ]
     },
     "execution_count": 2,
     "metadata": {},
     "output_type": "execute_result"
    }
   ],
   "source": [
    "emma = gutenberg.words('austen-emma.txt')\n",
    "len(emma)"
   ]
  },
  {
   "cell_type": "markdown",
   "metadata": {},
   "source": [
    "There are <b>7,811</b> unique words. "
   ]
  },
  {
   "cell_type": "code",
   "execution_count": 3,
   "metadata": {
    "scrolled": true
   },
   "outputs": [
    {
     "data": {
      "text/plain": [
       "7811"
      ]
     },
     "execution_count": 3,
     "metadata": {},
     "output_type": "execute_result"
    }
   ],
   "source": [
    "len(set(emma))"
   ]
  },
  {
   "cell_type": "markdown",
   "metadata": {},
   "source": [
    "### (2) How many total unique words are in the corpus?  \n",
    "(Please feel free to define unique words in any interesting, defensible way)."
   ]
  },
  {
   "cell_type": "markdown",
   "metadata": {},
   "source": [
    "We're interested in the unique count of words that do not include stopwords in the Engligh language. We also removed words that have length of less than 3. You will see a list of these words below. Punctuations were also removed."
   ]
  },
  {
   "cell_type": "code",
   "execution_count": 4,
   "metadata": {},
   "outputs": [
    {
     "name": "stdout",
     "output_type": "stream",
     "text": [
      "     word  word_len\n",
      "5733    w         1\n",
      "6761    f         1\n",
      "4776    k         1\n",
      "2099    e         1\n",
      "2129    x         1\n",
      "6259    n         1\n",
      "4017    l         1\n",
      "4985    c         1\n",
      "6858    v         1\n",
      "5145   mr         2\n",
      "620    la         2\n",
      "5376   xv         2\n",
      "5904   al         2\n",
      "5942   en         2\n",
      "6462   se         2\n",
      "5232   em         2\n",
      "4507   ox         2\n",
      "4417   go         2\n",
      "4399   ye         2\n",
      "3721   ha         2\n",
      "3493   st         2\n",
      "3290   vi         2\n",
      "3024   xi         2\n",
      "2798   us         2\n",
      "2688   oh         2\n",
      "2520   dr         2\n",
      "2403   iv         2\n",
      "2030   ah         2\n",
      "930    ix         2\n",
      "4490   de         2\n",
      "6942   ii         2\n"
     ]
    }
   ],
   "source": [
    "# Stopwords\n",
    "stopwords_english = stopwords.words('english')\n",
    "\n",
    "# Remove puncatuation/ and any characters that are not letters\n",
    "words = [word for word in emma if word.isalpha()]\n",
    "\n",
    "# Remove stopwords\n",
    "words = [w.lower() for w in words if w.lower() not in stopwords_english]\n",
    "\n",
    "#unique words\n",
    "unique_words = list(set(words)) \n",
    "\n",
    "#calculate length of words\n",
    "df_words = pd.DataFrame(unique_words)\n",
    "df_words.columns = ['word']\n",
    "df_words['word_len'] = df_words['word'].apply(lambda x: len(x))\n",
    "\n",
    "#print words that have length of less than 3\n",
    "print(df_words[df_words['word_len']<3].sort_values(by='word_len'))"
   ]
  },
  {
   "cell_type": "code",
   "execution_count": 5,
   "metadata": {},
   "outputs": [],
   "source": [
    "#Remove words that \n",
    "remove_extra = ['v', 'em', 'l','k','c','e','f','w','n','x','mr','la','dr','us','oh','vi','se',\n",
    "                       'st','en','al','ii','xv','ah','de','ix','xi','iv','go','ox','ye','ha']\n",
    "\n",
    "#Remove words that are in remove_extra\n",
    "words = [w.lower() for w in words if w.lower() not in remove_extra]"
   ]
  },
  {
   "cell_type": "markdown",
   "metadata": {},
   "source": [
    "Let's take a look if there are any remaining words that are less than 3 characters. "
   ]
  },
  {
   "cell_type": "code",
   "execution_count": 6,
   "metadata": {},
   "outputs": [
    {
     "name": "stdout",
     "output_type": "stream",
     "text": [
      "Empty DataFrame\n",
      "Columns: [word, word_len]\n",
      "Index: []\n"
     ]
    }
   ],
   "source": [
    "#unique words\n",
    "unique_words = list(set(words)) \n",
    "\n",
    "#calculate length of words\n",
    "df_words = pd.DataFrame(unique_words)\n",
    "df_words.columns = ['word']\n",
    "df_words['word_len'] = df_words['word'].apply(lambda x: len(x))\n",
    "\n",
    "#print words that have length of less than 3\n",
    "print(df_words[df_words['word_len']<3].sort_values(by='word_len'))"
   ]
  },
  {
   "cell_type": "markdown",
   "metadata": {},
   "source": [
    "#### There are 6,917 unique words in the emma text after the removal process. Originally, the text had 7,811 unique words. "
   ]
  },
  {
   "cell_type": "code",
   "execution_count": 7,
   "metadata": {},
   "outputs": [
    {
     "data": {
      "text/plain": [
       "6917"
      ]
     },
     "execution_count": 7,
     "metadata": {},
     "output_type": "execute_result"
    }
   ],
   "source": [
    "unique_words = set(words)\n",
    "len(unique_words)"
   ]
  },
  {
   "cell_type": "markdown",
   "metadata": {},
   "source": [
    "### (3) Taking the most common words, how many unique words represent half of the total words in the corpus?"
   ]
  },
  {
   "cell_type": "code",
   "execution_count": 8,
   "metadata": {},
   "outputs": [
    {
     "data": {
      "text/plain": [
       "FreqDist({'emma': 865, 'could': 837, 'would': 820, 'mrs': 699, 'miss': 599, 'must': 567, 'harriet': 506, 'much': 486, 'said': 484, 'one': 452, ...})"
      ]
     },
     "execution_count": 8,
     "metadata": {},
     "output_type": "execute_result"
    }
   ],
   "source": [
    "emma_freq_dist = nltk.FreqDist(words)\n",
    "emma_freq_dist #nltk.probability.FreqDist"
   ]
  },
  {
   "cell_type": "markdown",
   "metadata": {},
   "source": [
    "There are 71,405 words (not unique). About half of this is 35,702.5."
   ]
  },
  {
   "cell_type": "code",
   "execution_count": 9,
   "metadata": {},
   "outputs": [
    {
     "name": "stdout",
     "output_type": "stream",
     "text": [
      "71405\n",
      "35702.5\n"
     ]
    }
   ],
   "source": [
    "print(len(words))\n",
    "print(len(words)/2)"
   ]
  },
  {
   "cell_type": "code",
   "execution_count": 10,
   "metadata": {},
   "outputs": [
    {
     "data": {
      "text/html": [
       "<div>\n",
       "<style scoped>\n",
       "    .dataframe tbody tr th:only-of-type {\n",
       "        vertical-align: middle;\n",
       "    }\n",
       "\n",
       "    .dataframe tbody tr th {\n",
       "        vertical-align: top;\n",
       "    }\n",
       "\n",
       "    .dataframe thead th {\n",
       "        text-align: right;\n",
       "    }\n",
       "</style>\n",
       "<table border=\"1\" class=\"dataframe\">\n",
       "  <thead>\n",
       "    <tr style=\"text-align: right;\">\n",
       "      <th></th>\n",
       "      <th>word</th>\n",
       "      <th>frequency</th>\n",
       "      <th>cumulative_frequency</th>\n",
       "    </tr>\n",
       "  </thead>\n",
       "  <tbody>\n",
       "    <tr>\n",
       "      <th>0</th>\n",
       "      <td>emma</td>\n",
       "      <td>865</td>\n",
       "      <td>865</td>\n",
       "    </tr>\n",
       "    <tr>\n",
       "      <th>1</th>\n",
       "      <td>could</td>\n",
       "      <td>837</td>\n",
       "      <td>1702</td>\n",
       "    </tr>\n",
       "    <tr>\n",
       "      <th>2</th>\n",
       "      <td>would</td>\n",
       "      <td>820</td>\n",
       "      <td>2522</td>\n",
       "    </tr>\n",
       "    <tr>\n",
       "      <th>3</th>\n",
       "      <td>mrs</td>\n",
       "      <td>699</td>\n",
       "      <td>3221</td>\n",
       "    </tr>\n",
       "    <tr>\n",
       "      <th>4</th>\n",
       "      <td>miss</td>\n",
       "      <td>599</td>\n",
       "      <td>3820</td>\n",
       "    </tr>\n",
       "    <tr>\n",
       "      <th>5</th>\n",
       "      <td>must</td>\n",
       "      <td>567</td>\n",
       "      <td>4387</td>\n",
       "    </tr>\n",
       "    <tr>\n",
       "      <th>6</th>\n",
       "      <td>harriet</td>\n",
       "      <td>506</td>\n",
       "      <td>4893</td>\n",
       "    </tr>\n",
       "    <tr>\n",
       "      <th>7</th>\n",
       "      <td>much</td>\n",
       "      <td>486</td>\n",
       "      <td>5379</td>\n",
       "    </tr>\n",
       "    <tr>\n",
       "      <th>8</th>\n",
       "      <td>said</td>\n",
       "      <td>484</td>\n",
       "      <td>5863</td>\n",
       "    </tr>\n",
       "    <tr>\n",
       "      <th>9</th>\n",
       "      <td>one</td>\n",
       "      <td>452</td>\n",
       "      <td>6315</td>\n",
       "    </tr>\n",
       "    <tr>\n",
       "      <th>10</th>\n",
       "      <td>weston</td>\n",
       "      <td>440</td>\n",
       "      <td>6755</td>\n",
       "    </tr>\n",
       "    <tr>\n",
       "      <th>11</th>\n",
       "      <td>every</td>\n",
       "      <td>435</td>\n",
       "      <td>7190</td>\n",
       "    </tr>\n",
       "    <tr>\n",
       "      <th>12</th>\n",
       "      <td>well</td>\n",
       "      <td>401</td>\n",
       "      <td>7591</td>\n",
       "    </tr>\n",
       "    <tr>\n",
       "      <th>13</th>\n",
       "      <td>thing</td>\n",
       "      <td>398</td>\n",
       "      <td>7989</td>\n",
       "    </tr>\n",
       "    <tr>\n",
       "      <th>14</th>\n",
       "      <td>knightley</td>\n",
       "      <td>389</td>\n",
       "      <td>8378</td>\n",
       "    </tr>\n",
       "    <tr>\n",
       "      <th>15</th>\n",
       "      <td>elton</td>\n",
       "      <td>385</td>\n",
       "      <td>8763</td>\n",
       "    </tr>\n",
       "    <tr>\n",
       "      <th>16</th>\n",
       "      <td>think</td>\n",
       "      <td>383</td>\n",
       "      <td>9146</td>\n",
       "    </tr>\n",
       "    <tr>\n",
       "      <th>17</th>\n",
       "      <td>little</td>\n",
       "      <td>359</td>\n",
       "      <td>9505</td>\n",
       "    </tr>\n",
       "    <tr>\n",
       "      <th>18</th>\n",
       "      <td>good</td>\n",
       "      <td>358</td>\n",
       "      <td>9863</td>\n",
       "    </tr>\n",
       "    <tr>\n",
       "      <th>19</th>\n",
       "      <td>never</td>\n",
       "      <td>358</td>\n",
       "      <td>10221</td>\n",
       "    </tr>\n",
       "  </tbody>\n",
       "</table>\n",
       "</div>"
      ],
      "text/plain": [
       "         word  frequency  cumulative_frequency\n",
       "0        emma        865                   865\n",
       "1       could        837                  1702\n",
       "2       would        820                  2522\n",
       "3         mrs        699                  3221\n",
       "4        miss        599                  3820\n",
       "5        must        567                  4387\n",
       "6     harriet        506                  4893\n",
       "7        much        486                  5379\n",
       "8        said        484                  5863\n",
       "9         one        452                  6315\n",
       "10     weston        440                  6755\n",
       "11      every        435                  7190\n",
       "12       well        401                  7591\n",
       "13      thing        398                  7989\n",
       "14  knightley        389                  8378\n",
       "15      elton        385                  8763\n",
       "16      think        383                  9146\n",
       "17     little        359                  9505\n",
       "18       good        358                  9863\n",
       "19      never        358                 10221"
      ]
     },
     "execution_count": 10,
     "metadata": {},
     "output_type": "execute_result"
    }
   ],
   "source": [
    "#Create Cumulative Frequency Table\n",
    "df_all_words = pd.DataFrame(words)\n",
    "df_all_words.columns = ['word']\n",
    "df_all_words_freq = pd.DataFrame(df_all_words['word'].value_counts()).reset_index(drop=False)\n",
    "df_all_words_freq.columns = ['word', 'frequency']\n",
    "df_all_words_freq['cumulative_frequency'] = df_all_words_freq['frequency'].cumsum()\n",
    "df_all_words_freq.sort_values(by='frequency', ascending=False).head(20)"
   ]
  },
  {
   "cell_type": "markdown",
   "metadata": {},
   "source": [
    "### There are 258 words that represent about half of the total words. "
   ]
  },
  {
   "cell_type": "code",
   "execution_count": 11,
   "metadata": {},
   "outputs": [
    {
     "data": {
      "text/plain": [
       "258"
      ]
     },
     "execution_count": 11,
     "metadata": {},
     "output_type": "execute_result"
    }
   ],
   "source": [
    "len(df_all_words_freq[df_all_words_freq['cumulative_frequency'] <= 35703])"
   ]
  },
  {
   "cell_type": "code",
   "execution_count": 12,
   "metadata": {},
   "outputs": [
    {
     "data": {
      "text/html": [
       "<div>\n",
       "<style scoped>\n",
       "    .dataframe tbody tr th:only-of-type {\n",
       "        vertical-align: middle;\n",
       "    }\n",
       "\n",
       "    .dataframe tbody tr th {\n",
       "        vertical-align: top;\n",
       "    }\n",
       "\n",
       "    .dataframe thead th {\n",
       "        text-align: right;\n",
       "    }\n",
       "</style>\n",
       "<table border=\"1\" class=\"dataframe\">\n",
       "  <thead>\n",
       "    <tr style=\"text-align: right;\">\n",
       "      <th></th>\n",
       "      <th>word</th>\n",
       "      <th>frequency</th>\n",
       "      <th>cumulative_frequency</th>\n",
       "    </tr>\n",
       "  </thead>\n",
       "  <tbody>\n",
       "    <tr>\n",
       "      <th>0</th>\n",
       "      <td>emma</td>\n",
       "      <td>865</td>\n",
       "      <td>865</td>\n",
       "    </tr>\n",
       "    <tr>\n",
       "      <th>1</th>\n",
       "      <td>could</td>\n",
       "      <td>837</td>\n",
       "      <td>1702</td>\n",
       "    </tr>\n",
       "    <tr>\n",
       "      <th>2</th>\n",
       "      <td>would</td>\n",
       "      <td>820</td>\n",
       "      <td>2522</td>\n",
       "    </tr>\n",
       "    <tr>\n",
       "      <th>3</th>\n",
       "      <td>mrs</td>\n",
       "      <td>699</td>\n",
       "      <td>3221</td>\n",
       "    </tr>\n",
       "    <tr>\n",
       "      <th>4</th>\n",
       "      <td>miss</td>\n",
       "      <td>599</td>\n",
       "      <td>3820</td>\n",
       "    </tr>\n",
       "    <tr>\n",
       "      <th>...</th>\n",
       "      <td>...</td>\n",
       "      <td>...</td>\n",
       "      <td>...</td>\n",
       "    </tr>\n",
       "    <tr>\n",
       "      <th>253</th>\n",
       "      <td>beyond</td>\n",
       "      <td>54</td>\n",
       "      <td>35474</td>\n",
       "    </tr>\n",
       "    <tr>\n",
       "      <th>254</th>\n",
       "      <td>manners</td>\n",
       "      <td>53</td>\n",
       "      <td>35527</td>\n",
       "    </tr>\n",
       "    <tr>\n",
       "      <th>255</th>\n",
       "      <td>hand</td>\n",
       "      <td>53</td>\n",
       "      <td>35580</td>\n",
       "    </tr>\n",
       "    <tr>\n",
       "      <th>256</th>\n",
       "      <td>talking</td>\n",
       "      <td>53</td>\n",
       "      <td>35633</td>\n",
       "    </tr>\n",
       "    <tr>\n",
       "      <th>257</th>\n",
       "      <td>minutes</td>\n",
       "      <td>53</td>\n",
       "      <td>35686</td>\n",
       "    </tr>\n",
       "  </tbody>\n",
       "</table>\n",
       "<p>258 rows × 3 columns</p>\n",
       "</div>"
      ],
      "text/plain": [
       "        word  frequency  cumulative_frequency\n",
       "0       emma        865                   865\n",
       "1      could        837                  1702\n",
       "2      would        820                  2522\n",
       "3        mrs        699                  3221\n",
       "4       miss        599                  3820\n",
       "..       ...        ...                   ...\n",
       "253   beyond         54                 35474\n",
       "254  manners         53                 35527\n",
       "255     hand         53                 35580\n",
       "256  talking         53                 35633\n",
       "257  minutes         53                 35686\n",
       "\n",
       "[258 rows x 3 columns]"
      ]
     },
     "execution_count": 12,
     "metadata": {},
     "output_type": "execute_result"
    }
   ],
   "source": [
    "df_all_words_freq[df_all_words_freq['cumulative_frequency'] <= 35702.5]"
   ]
  },
  {
   "cell_type": "code",
   "execution_count": 13,
   "metadata": {
    "scrolled": false
   },
   "outputs": [
    {
     "data": {
      "image/png": "[encoded data removed]",
      "text/plain": [
       "<Figure size 1800x720 with 1 Axes>"
      ]
     },
     "metadata": {
      "needs_background": "light"
     },
     "output_type": "display_data"
    },
    {
     "data": {
      "text/plain": [
       "<AxesSubplot:xlabel='Samples', ylabel='Cumulative Counts'>"
      ]
     },
     "execution_count": 13,
     "metadata": {},
     "output_type": "execute_result"
    }
   ],
   "source": [
    "plt.figure(3,figsize=(25,10)) \n",
    "#%matplotlib inline\n",
    "emma_freq_dist.plot(258, cumulative=True)"
   ]
  },
  {
   "cell_type": "markdown",
   "metadata": {},
   "source": [
    "### Identify the 200 highest frequency words in this corpus."
   ]
  },
  {
   "cell_type": "code",
   "execution_count": 14,
   "metadata": {
    "scrolled": true
   },
   "outputs": [
    {
     "name": "stdout",
     "output_type": "stream",
     "text": [
      "emma 865\n",
      "could 837\n",
      "would 820\n",
      "mrs 699\n",
      "miss 599\n",
      "must 567\n",
      "harriet 506\n",
      "much 486\n",
      "said 484\n",
      "one 452\n",
      "weston 440\n",
      "every 435\n",
      "well 401\n",
      "thing 398\n",
      "knightley 389\n",
      "elton 385\n",
      "think 383\n",
      "little 359\n",
      "never 358\n",
      "good 358\n",
      "know 337\n",
      "might 326\n",
      "woodhouse 313\n",
      "say 310\n",
      "jane 301\n",
      "quite 282\n",
      "time 279\n",
      "great 264\n",
      "nothing 256\n",
      "dear 241\n",
      "fairfax 241\n",
      "always 238\n",
      "man 235\n",
      "thought 226\n",
      "soon 224\n",
      "churchill 224\n",
      "see 222\n",
      "may 221\n",
      "shall 217\n",
      "without 214\n",
      "first 209\n",
      "frank 208\n",
      "father 207\n",
      "sure 204\n",
      "indeed 202\n",
      "like 200\n",
      "made 199\n",
      "body 193\n",
      "ever 193\n",
      "day 192\n",
      "young 192\n",
      "two 178\n",
      "friend 177\n",
      "though 177\n",
      "better 173\n",
      "come 172\n",
      "hartfield 160\n",
      "give 159\n",
      "upon 159\n",
      "way 155\n",
      "really 153\n",
      "make 152\n",
      "bates 148\n",
      "long 146\n",
      "rather 146\n",
      "hope 143\n",
      "done 142\n",
      "cannot 142\n",
      "seemed 141\n",
      "away 138\n",
      "many 138\n",
      "poor 136\n",
      "wish 135\n",
      "even 132\n",
      "woman 131\n",
      "however 131\n",
      "home 130\n",
      "enough 129\n",
      "mind 128\n",
      "happy 125\n",
      "highbury 125\n",
      "yes 125\n",
      "look 121\n",
      "going 120\n",
      "heard 120\n",
      "moment 120\n",
      "came 119\n",
      "last 119\n",
      "take 119\n",
      "half 118\n",
      "love 117\n",
      "room 117\n",
      "pleasure 115\n",
      "still 115\n",
      "another 114\n",
      "felt 113\n",
      "something 113\n",
      "sort 112\n",
      "morning 111\n",
      "yet 109\n",
      "letter 109\n",
      "saw 108\n",
      "till 102\n",
      "believe 102\n",
      "feelings 102\n",
      "certainly 101\n",
      "idea 100\n",
      "hear 100\n",
      "speak 99\n",
      "perhaps 99\n",
      "doubt 98\n",
      "subject 97\n",
      "evening 96\n",
      "party 96\n",
      "house 95\n",
      "people 95\n",
      "feel 95\n",
      "ought 95\n",
      "word 94\n",
      "place 93\n",
      "deal 92\n",
      "right 92\n",
      "found 92\n",
      "looked 91\n",
      "often 91\n",
      "want 90\n",
      "randalls 90\n",
      "let 90\n",
      "john 90\n",
      "present 89\n",
      "coming 89\n",
      "smith 89\n",
      "almost 88\n",
      "knew 88\n",
      "visit 86\n",
      "best 85\n",
      "old 85\n",
      "martin 85\n",
      "least 85\n",
      "possible 84\n",
      "hour 83\n",
      "kind 82\n",
      "friends 82\n",
      "world 81\n",
      "together 81\n",
      "suppose 81\n",
      "cried 81\n",
      "gone 80\n",
      "life 80\n",
      "else 80\n",
      "perry 80\n",
      "replied 79\n",
      "told 78\n",
      "family 77\n",
      "tell 77\n",
      "given 77\n",
      "happiness 76\n",
      "obliged 76\n",
      "whole 76\n",
      "find 75\n",
      "manner 75\n",
      "wanted 75\n",
      "nobody 73\n",
      "seen 73\n",
      "lady 73\n",
      "ill 73\n",
      "mother 72\n",
      "able 72\n",
      "three 72\n",
      "hardly 71\n",
      "opinion 71\n",
      "side 71\n",
      "short 70\n",
      "part 70\n",
      "far 70\n",
      "immediately 70\n",
      "isabella 69\n",
      "carriage 69\n",
      "looking 69\n",
      "less 68\n",
      "left 68\n",
      "wife 68\n",
      "pretty 68\n",
      "understand 68\n",
      "get 67\n",
      "back 67\n",
      "perfectly 67\n",
      "person 67\n",
      "true 66\n",
      "heart 66\n",
      "talked 66\n",
      "sir 66\n",
      "ready 66\n",
      "towards 66\n",
      "extremely 66\n",
      "comfort 65\n",
      "afraid 65\n",
      "since 65\n",
      "general 65\n",
      "situation 64\n"
     ]
    }
   ],
   "source": [
    "for key,value in emma_freq_dist.most_common(200):\n",
    "    print(key,value)"
   ]
  },
  {
   "cell_type": "markdown",
   "metadata": {},
   "source": [
    "### (4) Create a graph that shows the relative frequency of these 200 words."
   ]
  },
  {
   "cell_type": "code",
   "execution_count": 15,
   "metadata": {},
   "outputs": [],
   "source": [
    "df = pd.DataFrame(emma_freq_dist.most_common(200))\n",
    "df.columns = ['word', 'frequency']"
   ]
  },
  {
   "cell_type": "code",
   "execution_count": 16,
   "metadata": {},
   "outputs": [
    {
     "data": {
      "text/html": [
       "<div>\n",
       "<style scoped>\n",
       "    .dataframe tbody tr th:only-of-type {\n",
       "        vertical-align: middle;\n",
       "    }\n",
       "\n",
       "    .dataframe tbody tr th {\n",
       "        vertical-align: top;\n",
       "    }\n",
       "\n",
       "    .dataframe thead th {\n",
       "        text-align: right;\n",
       "    }\n",
       "</style>\n",
       "<table border=\"1\" class=\"dataframe\">\n",
       "  <thead>\n",
       "    <tr style=\"text-align: right;\">\n",
       "      <th></th>\n",
       "      <th>word</th>\n",
       "      <th>frequency</th>\n",
       "    </tr>\n",
       "  </thead>\n",
       "  <tbody>\n",
       "    <tr>\n",
       "      <th>0</th>\n",
       "      <td>emma</td>\n",
       "      <td>865</td>\n",
       "    </tr>\n",
       "    <tr>\n",
       "      <th>1</th>\n",
       "      <td>could</td>\n",
       "      <td>837</td>\n",
       "    </tr>\n",
       "    <tr>\n",
       "      <th>2</th>\n",
       "      <td>would</td>\n",
       "      <td>820</td>\n",
       "    </tr>\n",
       "    <tr>\n",
       "      <th>3</th>\n",
       "      <td>mrs</td>\n",
       "      <td>699</td>\n",
       "    </tr>\n",
       "    <tr>\n",
       "      <th>4</th>\n",
       "      <td>miss</td>\n",
       "      <td>599</td>\n",
       "    </tr>\n",
       "  </tbody>\n",
       "</table>\n",
       "</div>"
      ],
      "text/plain": [
       "    word  frequency\n",
       "0   emma        865\n",
       "1  could        837\n",
       "2  would        820\n",
       "3    mrs        699\n",
       "4   miss        599"
      ]
     },
     "execution_count": 16,
     "metadata": {},
     "output_type": "execute_result"
    }
   ],
   "source": [
    "df.head()"
   ]
  },
  {
   "cell_type": "code",
   "execution_count": 17,
   "metadata": {},
   "outputs": [],
   "source": [
    "# Calculate relative frequency\n",
    "df['relative_frequency'] = df['frequency']/df['frequency'].sum()"
   ]
  },
  {
   "cell_type": "code",
   "execution_count": 18,
   "metadata": {},
   "outputs": [],
   "source": [
    "df = df.reset_index(drop=False)"
   ]
  },
  {
   "cell_type": "code",
   "execution_count": 19,
   "metadata": {
    "scrolled": false
   },
   "outputs": [
    {
     "data": {
      "text/html": [
       "<div>\n",
       "<style scoped>\n",
       "    .dataframe tbody tr th:only-of-type {\n",
       "        vertical-align: middle;\n",
       "    }\n",
       "\n",
       "    .dataframe tbody tr th {\n",
       "        vertical-align: top;\n",
       "    }\n",
       "\n",
       "    .dataframe thead th {\n",
       "        text-align: right;\n",
       "    }\n",
       "</style>\n",
       "<table border=\"1\" class=\"dataframe\">\n",
       "  <thead>\n",
       "    <tr style=\"text-align: right;\">\n",
       "      <th></th>\n",
       "      <th>index</th>\n",
       "      <th>word</th>\n",
       "      <th>frequency</th>\n",
       "      <th>relative_frequency</th>\n",
       "    </tr>\n",
       "  </thead>\n",
       "  <tbody>\n",
       "    <tr>\n",
       "      <th>0</th>\n",
       "      <td>0</td>\n",
       "      <td>emma</td>\n",
       "      <td>865</td>\n",
       "      <td>0.026788</td>\n",
       "    </tr>\n",
       "    <tr>\n",
       "      <th>1</th>\n",
       "      <td>1</td>\n",
       "      <td>could</td>\n",
       "      <td>837</td>\n",
       "      <td>0.025921</td>\n",
       "    </tr>\n",
       "    <tr>\n",
       "      <th>2</th>\n",
       "      <td>2</td>\n",
       "      <td>would</td>\n",
       "      <td>820</td>\n",
       "      <td>0.025395</td>\n",
       "    </tr>\n",
       "    <tr>\n",
       "      <th>3</th>\n",
       "      <td>3</td>\n",
       "      <td>mrs</td>\n",
       "      <td>699</td>\n",
       "      <td>0.021648</td>\n",
       "    </tr>\n",
       "    <tr>\n",
       "      <th>4</th>\n",
       "      <td>4</td>\n",
       "      <td>miss</td>\n",
       "      <td>599</td>\n",
       "      <td>0.018551</td>\n",
       "    </tr>\n",
       "    <tr>\n",
       "      <th>5</th>\n",
       "      <td>5</td>\n",
       "      <td>must</td>\n",
       "      <td>567</td>\n",
       "      <td>0.017560</td>\n",
       "    </tr>\n",
       "    <tr>\n",
       "      <th>6</th>\n",
       "      <td>6</td>\n",
       "      <td>harriet</td>\n",
       "      <td>506</td>\n",
       "      <td>0.015670</td>\n",
       "    </tr>\n",
       "    <tr>\n",
       "      <th>7</th>\n",
       "      <td>7</td>\n",
       "      <td>much</td>\n",
       "      <td>486</td>\n",
       "      <td>0.015051</td>\n",
       "    </tr>\n",
       "    <tr>\n",
       "      <th>8</th>\n",
       "      <td>8</td>\n",
       "      <td>said</td>\n",
       "      <td>484</td>\n",
       "      <td>0.014989</td>\n",
       "    </tr>\n",
       "    <tr>\n",
       "      <th>9</th>\n",
       "      <td>9</td>\n",
       "      <td>one</td>\n",
       "      <td>452</td>\n",
       "      <td>0.013998</td>\n",
       "    </tr>\n",
       "    <tr>\n",
       "      <th>10</th>\n",
       "      <td>10</td>\n",
       "      <td>weston</td>\n",
       "      <td>440</td>\n",
       "      <td>0.013627</td>\n",
       "    </tr>\n",
       "    <tr>\n",
       "      <th>11</th>\n",
       "      <td>11</td>\n",
       "      <td>every</td>\n",
       "      <td>435</td>\n",
       "      <td>0.013472</td>\n",
       "    </tr>\n",
       "    <tr>\n",
       "      <th>12</th>\n",
       "      <td>12</td>\n",
       "      <td>well</td>\n",
       "      <td>401</td>\n",
       "      <td>0.012419</td>\n",
       "    </tr>\n",
       "    <tr>\n",
       "      <th>13</th>\n",
       "      <td>13</td>\n",
       "      <td>thing</td>\n",
       "      <td>398</td>\n",
       "      <td>0.012326</td>\n",
       "    </tr>\n",
       "    <tr>\n",
       "      <th>14</th>\n",
       "      <td>14</td>\n",
       "      <td>knightley</td>\n",
       "      <td>389</td>\n",
       "      <td>0.012047</td>\n",
       "    </tr>\n",
       "    <tr>\n",
       "      <th>15</th>\n",
       "      <td>15</td>\n",
       "      <td>elton</td>\n",
       "      <td>385</td>\n",
       "      <td>0.011923</td>\n",
       "    </tr>\n",
       "    <tr>\n",
       "      <th>16</th>\n",
       "      <td>16</td>\n",
       "      <td>think</td>\n",
       "      <td>383</td>\n",
       "      <td>0.011861</td>\n",
       "    </tr>\n",
       "    <tr>\n",
       "      <th>17</th>\n",
       "      <td>17</td>\n",
       "      <td>little</td>\n",
       "      <td>359</td>\n",
       "      <td>0.011118</td>\n",
       "    </tr>\n",
       "    <tr>\n",
       "      <th>18</th>\n",
       "      <td>18</td>\n",
       "      <td>never</td>\n",
       "      <td>358</td>\n",
       "      <td>0.011087</td>\n",
       "    </tr>\n",
       "    <tr>\n",
       "      <th>19</th>\n",
       "      <td>19</td>\n",
       "      <td>good</td>\n",
       "      <td>358</td>\n",
       "      <td>0.011087</td>\n",
       "    </tr>\n",
       "  </tbody>\n",
       "</table>\n",
       "</div>"
      ],
      "text/plain": [
       "    index       word  frequency  relative_frequency\n",
       "0       0       emma        865            0.026788\n",
       "1       1      could        837            0.025921\n",
       "2       2      would        820            0.025395\n",
       "3       3        mrs        699            0.021648\n",
       "4       4       miss        599            0.018551\n",
       "5       5       must        567            0.017560\n",
       "6       6    harriet        506            0.015670\n",
       "7       7       much        486            0.015051\n",
       "8       8       said        484            0.014989\n",
       "9       9        one        452            0.013998\n",
       "10     10     weston        440            0.013627\n",
       "11     11      every        435            0.013472\n",
       "12     12       well        401            0.012419\n",
       "13     13      thing        398            0.012326\n",
       "14     14  knightley        389            0.012047\n",
       "15     15      elton        385            0.011923\n",
       "16     16      think        383            0.011861\n",
       "17     17     little        359            0.011118\n",
       "18     18      never        358            0.011087\n",
       "19     19       good        358            0.011087"
      ]
     },
     "execution_count": 19,
     "metadata": {},
     "output_type": "execute_result"
    }
   ],
   "source": [
    "df.head(20)"
   ]
  },
  {
   "cell_type": "code",
   "execution_count": 20,
   "metadata": {
    "scrolled": false
   },
   "outputs": [
    {
     "data": {
      "text/plain": [
       "<AxesSubplot:>"
      ]
     },
     "execution_count": 20,
     "metadata": {},
     "output_type": "execute_result"
    },
    {
     "data": {
      "image/png": "[encoded data removed]",
      "text/plain": [
       "<Figure size 1440x720 with 1 Axes>"
      ]
     },
     "metadata": {
      "needs_background": "light"
     },
     "output_type": "display_data"
    }
   ],
   "source": [
    "plt.figure(3,figsize=(20,10))\n",
    "df['relative_frequency'].plot()\n"
   ]
  },
  {
   "cell_type": "markdown",
   "metadata": {},
   "source": [
    "### (5) Does the observed relative frequency of these words follow Zipf’s law? Explain."
   ]
  },
  {
   "cell_type": "markdown",
   "metadata": {},
   "source": [
    "In the English language, the probability of encountering the rth most common word is given roughly by P(r)=0.1/r. \n",
    "\n",
    "In the graph below, it looks like the 200 most common words roughly follow Zipf's law."
   ]
  },
  {
   "cell_type": "code",
   "execution_count": 21,
   "metadata": {},
   "outputs": [],
   "source": [
    "df['zip_probability'] = 0.1/(df['index'] + 1)"
   ]
  },
  {
   "cell_type": "code",
   "execution_count": 22,
   "metadata": {},
   "outputs": [
    {
     "data": {
      "image/png": "[encoded data removed]",
      "text/plain": [
       "<Figure size 1440x720 with 1 Axes>"
      ]
     },
     "metadata": {
      "needs_background": "light"
     },
     "output_type": "display_data"
    }
   ],
   "source": [
    "plt.figure(3,figsize=(20,10))\n",
    "plt.plot(df['relative_frequency'], 'blue')\n",
    "plt.plot(df['zip_probability'], 'green')\n",
    "plt.show()"
   ]
  },
  {
   "cell_type": "markdown",
   "metadata": {},
   "source": [
    "### (6) In what ways do you think the frequency of the words in this corpus differ from “all words in all corpora.”"
   ]
  },
  {
   "cell_type": "markdown",
   "metadata": {},
   "source": [
    "One way that the frequency of the words in this specific text could differ from the frequency of \"all words in all corpora\" is through the writing style of the author. Certain authors probably use a set of words more frequently than other authors. Another way would be the topic of the text. A mathematical text would most likely have a different word frequency when compared to a text that talks about love and relationships. \n",
    "\n"
   ]
  }
 ],
 "metadata": {
  "kernelspec": {
   "display_name": "Python 3",
   "language": "python",
   "name": "python3"
  },
  "language_info": {
   "codemirror_mode": {
    "name": "ipython",
    "version": 3
   },
   "file_extension": ".py",
   "mimetype": "text/x-python",
   "name": "python",
   "nbconvert_exporter": "python",
   "pygments_lexer": "ipython3",
   "version": "3.9.6"
  }
 },
 "nbformat": 4,
 "nbformat_minor": 2
}
