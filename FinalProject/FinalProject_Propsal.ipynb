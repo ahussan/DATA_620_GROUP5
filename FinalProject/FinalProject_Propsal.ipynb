{
 "cells": [
  {
   "cell_type": "markdown",
   "metadata": {},
   "source": [
    "## Data 620 Final Project\n",
    "#### By Anjal Hussan, Zhouxin Shi, Chunjie Nan"
   ]
  },
  {
   "cell_type": "markdown",
   "metadata": {},
   "source": [
    "For the Final Project, we will be using sentiment analysis and network analysis to examine how the mythological characters in the Elder and Younger Eddas are portrayed and interact with one another. These books are essentially the source material for Marvel's Thor, Odin, Loki, so on and so forth.\n",
    "This will be accomplished primarily using NLTK, pandas, networkx, and matplotlib. Some questions we're looking to answer are:\n"
   ]
  },
  {
   "cell_type": "markdown",
   "metadata": {},
   "source": [
    "This will be accomplished primarily using NLTK, pandas, networkx, and matplotlib. Some questions we're looking to answer are:\n",
    "1.\tHow are the characters of this text aligned based on average scoring?\n",
    "2.\tDid these alignments meet expectations (i.e., versus how the characters that are based off Gods are portrayed in the Marvel movies)? How did they do compare to the Marvel Wikia Data provided by 538?\n",
    "3.\tAre characters more likely to interact with their own score-based alignment than another, based on the data?\n"
   ]
  },
  {
   "cell_type": "markdown",
   "metadata": {},
   "source": [
    "Datasets:\n",
    "- The Elder Eddas of Saemund Sigfusson; and the Younger Eddas of Snorre Sturleson; available for free on Project Gutenberg\n",
    "- Marvel Wikia Data CSV on Github, provided by 538\n"
   ]
  },
  {
   "cell_type": "markdown",
   "metadata": {},
   "source": [
    "Plan:\n",
    "1.\tBring in the necessary libraries\n",
    "- Requests (URLs)\n",
    "- NLTK (text analysis)\n",
    "-\tRe (regular expressions)\n",
    "-\tPandas (data frames)\n",
    "-\tNetworkx (graphing)\n",
    "-\tMaplotlib's Pyplot (more graphing)\n",
    "-\tNumpy (math)\n",
    "2.\tBring the CSV file in from 538 using pandas\n",
    "3.\tGet the necessary rows out of it – ALIGN is the most important column\n",
    "4.\tBring in the books (single text file) from Project Gutenberg\n",
    "5.\tFormat the text as needed\n",
    "6.\tGet the sentences from the books as lists\n",
    "-\tOne list for the Elder Edda\n",
    "-\tOne list for the Younger Edda\n",
    "-\tOne list with them combined\n",
    "7.\tUse the Sentiment Intensity Analyzer to determine polarity scores for each sentence\n",
    "8.\tCheck each sentence for the presence of a deity and if so, assign the sentence itself and its polarity score to that deity\n",
    "9.\tCreate a data frame where:\n",
    "-\tEach row has the name of the deity, whether or not they're a deity, a given sentence, the scoring for that sentence\n",
    "-\tNo exact duplicates are present\n",
    "-\tNo rows without a polarity score are present\n",
    "10.\tCreate another data frame that calculates the average polarity scores and the polarity z-scores\n",
    "11.\tAdd the Earth-616 character names and alignment (from that original CSV) on as columns to this new data frame\n",
    "12.\tCreate a network graph where:\n",
    "-\tNodes are either Gods or Alignment\n",
    "-\tEdges are present when Gods share sentences (God to God) and from God to Alignment\n",
    "13.\tIn addition to the analysis written with each graph and each step of the way, a written section going over the results and conclusions that can be inferred as a result of the analysis\n",
    "14.\tConclusion\n"
   ]
  }
 ],
 "metadata": {
  "kernelspec": {
   "display_name": "Python 3",
   "language": "python",
   "name": "python3"
  },
  "language_info": {
   "codemirror_mode": {
    "name": "ipython",
    "version": 3
   },
   "file_extension": ".py",
   "mimetype": "text/x-python",
   "name": "python",
   "nbconvert_exporter": "python",
   "pygments_lexer": "ipython3",
   "version": "3.9.6"
  }
 },
 "nbformat": 4,
 "nbformat_minor": 2
}
