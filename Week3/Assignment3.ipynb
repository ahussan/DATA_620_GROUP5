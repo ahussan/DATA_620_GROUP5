{
 "cells": [
  {
   "cell_type": "markdown",
   "metadata": {},
   "source": [
    "\n",
    "### DATA 620 \n",
    "### Week 3 Homework Assigment \n",
    "By Anjal Hussan, Zhouxin Shi, Chunjie Nan\n",
    "\n",
    "-----\n"
   ]
  },
  {
   "cell_type": "markdown",
   "metadata": {},
   "source": [
    "**Assignment**  \n",
    "\n",
    "*1. Load a graph database of your choosing from a text file or other source. If you take a\n",
    "large network dataset from the web (such as from https://snap.stanford.edu/data/), please\n",
    "feel free at this point to load just a small subset of the nodes and edges.*  \n",
    "\n",
    "*2. Create basic analysis on the graph, including the graph’s diameter, and at least one other\n",
    "metric of your choosing. You may either code the functions by hand (to build your\n",
    "intuition and insight), or use functions in an existing package.*  \n",
    "\n",
    "*3. Use a visualization tool of your choice (Neo4j, Gephi, etc.) to display information.*  \n",
    "\n",
    "*4. Please record a short video (~ 5 minutes), and submit a link to the video as part of your\n",
    "homework submission.*\n",
    "\n",
    "  \n",
    "----\n",
    "\n"
   ]
  },
  {
   "cell_type": "markdown",
   "metadata": {},
   "source": [
    "**Solution**\n",
    "  \n",
    "**Part 1: Load graph**  \n",
    "I have picked a relatively small graph of the connections between Wikipedia vote network users from https://snap.stanford.edu/data/wiki-Vote.html\n",
    "\n",
    "The network contains all the Wikipedia voting data from the inception of Wikipedia till January 2008. Nodes in the network represent wikipedia users and a directed edge from node i to node j represents that user i voted on user j."
   ]
  },
  {
   "cell_type": "code",
   "execution_count": 5,
   "metadata": {},
   "outputs": [],
   "source": [
    "# Setup\n",
    "import matplotlib.pyplot as plt \n",
    "import networkx as nx\n",
    "\n",
    "data_path = \"data/\"\n",
    "filename = \"wiki-Vote.txt.gz\""
   ]
  },
  {
   "cell_type": "code",
   "execution_count": 6,
   "metadata": {},
   "outputs": [],
   "source": [
    "g = nx.read_adjlist(path=data_path+filename)"
   ]
  },
  {
   "cell_type": "markdown",
   "metadata": {},
   "source": [
    "Let's find out how many nodes are there in this directed dataset"
   ]
  },
  {
   "cell_type": "code",
   "execution_count": 12,
   "metadata": {},
   "outputs": [
    {
     "name": "stdout",
     "output_type": "stream",
     "text": [
      "7115\n"
     ]
    }
   ],
   "source": [
    "print(g.number_of_nodes())"
   ]
  },
  {
   "cell_type": "markdown",
   "metadata": {},
   "source": [
    "Let's find out how many edges are there in the dataset"
   ]
  },
  {
   "cell_type": "code",
   "execution_count": 14,
   "metadata": {},
   "outputs": [
    {
     "name": "stdout",
     "output_type": "stream",
     "text": [
      "100762\n"
     ]
    }
   ],
   "source": [
    "print(g.number_of_edges())"
   ]
  },
  {
   "cell_type": "code",
   "execution_count": 4,
   "metadata": {},
   "outputs": [
    {
     "name": "stdout",
     "output_type": "stream",
     "text": [
      "[('0', '1', {}), ('0', '2', {}), ('0', '3', {}), ('0', '4', {}), ('0', '5', {}), ('0', '6', {}), ('0', '7', {}), ('0', '8', {}), ('0', '9', {}), ('0', '10', {})]\n"
     ]
    }
   ],
   "source": [
    "print(list(g.edges(data=True))[0:10])"
   ]
  },
  {
   "cell_type": "code",
   "execution_count": 5,
   "metadata": {},
   "outputs": [
    {
     "name": "stdout",
     "output_type": "stream",
     "text": [
      "['1684', '2670', '2699', '2703', '2879', '2889', '2959', '2972', '2982', '3008', '3283', '3309', '3311', '3314', '3318', '3325', '3423']\n"
     ]
    }
   ],
   "source": [
    "print (list(g.neighbors('3382')))"
   ]
  },
  {
   "cell_type": "markdown",
   "metadata": {},
   "source": [
    "From the above initial interaction with the graph object, We can confirm that we have sucessfully loaded the data using networkX and is recognized as a graph object."
   ]
  },
  {
   "cell_type": "markdown",
   "metadata": {},
   "source": [
    "**Part 2: Basic Analysis**"
   ]
  },
  {
   "cell_type": "code",
   "execution_count": 20,
   "metadata": {
    "scrolled": true
   },
   "outputs": [
    {
     "name": "stdout",
     "output_type": "stream",
     "text": [
      "Average edges per node:14\n"
     ]
    }
   ],
   "source": [
    "node_cnt = g.number_of_nodes()\n",
    "edge_cnt = len(g.edges)\n",
    "avg_edges_p_node = round(edge_cnt/node_cnt)\n",
    "print('Average edges per node:' + str(avg_edges_p_node))\n"
   ]
  },
  {
   "cell_type": "code",
   "execution_count": 22,
   "metadata": {},
   "outputs": [
    {
     "name": "stdout",
     "output_type": "stream",
     "text": [
      "Max number of neighbor is :1065\n"
     ]
    }
   ],
   "source": [
    "\n",
    "neighbor_cnts = [len(list(g.neighbors(node))) for node in g.nodes]\n",
    "min_neighb = min(neighbor_cnts)\n",
    "max_neighb = max(neighbor_cnts)\n",
    "print('Max number of neighbor is :' + str(max_neighb))\n"
   ]
  },
  {
   "cell_type": "markdown",
   "metadata": {},
   "source": [
    "Let's take a look if our graph is a connected graph or not:\n"
   ]
  },
  {
   "cell_type": "code",
   "execution_count": 23,
   "metadata": {},
   "outputs": [
    {
     "data": {
      "text/plain": [
       "False"
      ]
     },
     "execution_count": 23,
     "metadata": {},
     "output_type": "execute_result"
    }
   ],
   "source": [
    "nx.is_connected(g)"
   ]
  },
  {
   "cell_type": "markdown",
   "metadata": {},
   "source": [
    "Since the graph is not connected, we cannot compute diameter of the graph. Diameter of the graph can't be calculated for 1) a weakly-connected directed graph or 2) a disconnected graph. That is why the built in method `algorithms.diameter()` will not work for our graph. "
   ]
  },
  {
   "cell_type": "markdown",
   "metadata": {},
   "source": [
    "But we can find the maximum distance of a list containing the shortest paths between any two nodes in our graph (computed with Dijkstra's algorithm), regardless of what component they may belong to.\n",
    "\n",
    "Technically, diameter is infinite for disconnected graphs which is why NetworkX's built-in method does not work. The method bellow will find the largest diameter amongst all components within our graph, but is not the diameter of the graph itself.\n",
    "\n"
   ]
  },
  {
   "cell_type": "code",
   "execution_count": null,
   "metadata": {},
   "outputs": [],
   "source": [
    "diameter = max([max(j.values()) for (i,j) in nx.shortest_path_length(g)])"
   ]
  },
  {
   "cell_type": "code",
   "execution_count": 35,
   "metadata": {},
   "outputs": [
    {
     "name": "stdout",
     "output_type": "stream",
     "text": [
      "7\n"
     ]
    }
   ],
   "source": [
    "print(diameter)"
   ]
  },
  {
   "cell_type": "markdown",
   "metadata": {},
   "source": [
    "Graph diameter is the length of the \"longest shortest path\" between two nodes of a graph. In our case, the longest shortest path is 7"
   ]
  },
  {
   "cell_type": "code",
   "execution_count": 36,
   "metadata": {},
   "outputs": [],
   "source": [
    "# Compute the average clustering coefficient\n",
    "avg_clust_c = nx.algorithms.average_clustering(g)"
   ]
  },
  {
   "cell_type": "markdown",
   "metadata": {},
   "source": [
    "The local clustering of each node in g is the fraction of triangles that actually exist over all possible triangles in its neighborhood. The average clustering coefficient of a graph g is the mean of local clusterings.\n",
    "  \n",
    "Networkx calculates the approximate global clustering coefficient of the network by conducting the following experiment multiple times (1000 by default): \"choose a node at random, choose two of its neighbors at random, and check if they are connected. The approximate coefficient is the fraction of triangles found over the number of trials [2]\".\n",
    "    "
   ]
  },
  {
   "cell_type": "code",
   "execution_count": 38,
   "metadata": {},
   "outputs": [
    {
     "name": "stdout",
     "output_type": "stream",
     "text": [
      "Count of nodes: 7115\n",
      " Count of edges: 100762\n",
      " Average edges per node: 14\n",
      " Minimum neighbors per node: 1\n",
      " Maximum neighbors per node: 1065\n",
      " Graph diameter: 7\n",
      " Avg. clustering coefficient: 0.14\n",
      "\n"
     ]
    }
   ],
   "source": [
    "txt = \"Count of nodes: {}\\n Count of edges: {}\\n Average edges per node: {}\\n Minimum neighbors per node: {}\\n Maximum neighbors per node: {}\\n Graph diameter: {}\\n Avg. clustering coefficient: {}\\n\"\n",
    "print(txt.format(node_cnt,edge_cnt,avg_edges_p_node,min_neighb,max_neighb,diameter, round(avg_clust_c,2)))"
   ]
  },
  {
   "cell_type": "markdown",
   "metadata": {},
   "source": [
    "**Part 3: Display the graph**  \n",
    "I have chosen Gephi to visualize the graph."
   ]
  },
  {
   "cell_type": "code",
   "execution_count": 39,
   "metadata": {},
   "outputs": [],
   "source": [
    "# Saving into Gephi-compatible format\n",
    "output_file = \"wiki_graph.gexf\"\n",
    "nx.write_gexf(g,data_path + output_file)"
   ]
  },
  {
   "cell_type": "markdown",
   "metadata": {},
   "source": [
    "I have applied the Fruchterman Reingold layout in Gephi in order to see the circles of interconnected users:"
   ]
  },
  {
   "cell_type": "markdown",
   "metadata": {},
   "source": [
    "<img src=\"figures/fb_graph.png\">"
   ]
  },
  {
   "cell_type": "markdown",
   "metadata": {},
   "source": [
    "We can see the close-knit groups of people who are friends with one of the 10 individuals whose ego-networks were merged in this dataset, as well some individuals that share connections across the groups"
   ]
  },
  {
   "cell_type": "markdown",
   "metadata": {},
   "source": [
    "**Part 4: Video**\n"
   ]
  },
  {
   "cell_type": "markdown",
   "metadata": {},
   "source": [
    "### Reference\n",
    "  \n",
    "1. http://mathworld.wolfram.com/GraphDiameter.html\n",
    "2. https://networkx.github.io/documentation/networkx-1.10/reference/generated/networkx.algorithms.approximation.clustering_coefficient.average_clustering.html#networkx.algorithms.approximation.clustering_coefficient.average_clustering \n",
    "3. https://networkx.github.io/documentation/networkx-1.10/reference\n",
    "4. https://snap.stanford.edu/data/egonets-Facebook.html"
   ]
  },
  {
   "cell_type": "code",
   "execution_count": null,
   "metadata": {},
   "outputs": [],
   "source": []
  },
  {
   "cell_type": "code",
   "execution_count": null,
   "metadata": {},
   "outputs": [],
   "source": []
  }
 ],
 "metadata": {
  "kernelspec": {
   "display_name": "Python 3",
   "language": "python",
   "name": "python3"
  },
  "language_info": {
   "codemirror_mode": {
    "name": "ipython",
    "version": 3
   },
   "file_extension": ".py",
   "mimetype": "text/x-python",
   "name": "python",
   "nbconvert_exporter": "python",
   "pygments_lexer": "ipython3",
   "version": "3.8.12"
  }
 },
 "nbformat": 4,
 "nbformat_minor": 4
}
