{
 "cells": [
  {
   "cell_type": "markdown",
   "metadata": {},
   "source": [
    "\n",
    "### DATA 620 \n",
    "### Week 3 Homework Assigment \n",
    "By Anjal, Zhouxin Shi, Chunjie Nan\n",
    "\n",
    "-----\n"
   ]
  },
  {
   "cell_type": "markdown",
   "metadata": {},
   "source": [
    "**Assignment**  \n",
    "\n",
    "*1. Load a graph database of your choosing from a text file or other source. If you take a\n",
    "large network dataset from the web (such as from https://snap.stanford.edu/data/), please\n",
    "feel free at this point to load just a small subset of the nodes and edges.*  \n",
    "\n",
    "*2. Create basic analysis on the graph, including the graph’s diameter, and at least one other\n",
    "metric of your choosing. You may either code the functions by hand (to build your\n",
    "intuition and insight), or use functions in an existing package.*  \n",
    "\n",
    "*3. Use a visualization tool of your choice (Neo4j, Gephi, etc.) to display information.*  \n",
    "\n",
    "*4. Please record a short video (~ 5 minutes), and submit a link to the video as part of your\n",
    "homework submission.*\n",
    "\n",
    "  \n",
    "----\n",
    "\n"
   ]
  },
  {
   "cell_type": "markdown",
   "metadata": {},
   "source": [
    "**Solution**\n",
    "  \n",
    "**Part 1: Load graph**  \n",
    "I have picked a relatively small graph of the connections between anonymized wiki vote users from https://snap.stanford.edu/data/wiki-Vote.html.  \n",
    "It is an directed graph that hopefully will show some groups of friends in the visualization stage."
   ]
  },
  {
   "cell_type": "code",
   "execution_count": 2,
   "metadata": {},
   "outputs": [],
   "source": [
    "# Setup\n",
    "import matplotlib.pyplot as plt \n",
    "import networkx as nx\n",
    "\n",
    "data_path = \"data/\"\n",
    "filename = \"wiki-Vote.txt.gz\""
   ]
  },
  {
   "cell_type": "code",
   "execution_count": 3,
   "metadata": {},
   "outputs": [],
   "source": [
    "g = nx.read_adjlist(path=data_path+filename)"
   ]
  },
  {
   "cell_type": "markdown",
   "metadata": {},
   "source": [
    "We have sucessfully loaded a graph from an adjacency list and networkX has generated its edges:"
   ]
  },
  {
   "cell_type": "code",
   "execution_count": 4,
   "metadata": {},
   "outputs": [
    {
     "name": "stdout",
     "output_type": "stream",
     "text": [
      "30\n",
      "1412\n",
      "3352\n",
      "5254\n",
      "5543\n",
      "7478\n",
      "3\n",
      "28\n",
      "39\n",
      "54\n"
     ]
    }
   ],
   "source": [
    "for index,node in enumerate(g.nodes):\n",
    "    if index == 10:\n",
    "        break\n",
    "    print(node)"
   ]
  },
  {
   "cell_type": "code",
   "execution_count": 5,
   "metadata": {},
   "outputs": [
    {
     "name": "stdout",
     "output_type": "stream",
     "text": [
      "[('30', '1412'), ('30', '3352'), ('30', '5254'), ('30', '5543'), ('30', '7478'), ('30', '3'), ('30', '25'), ('30', '4'), ('30', '5'), ('30', '6')]\n"
     ]
    }
   ],
   "source": [
    "print(list(g.edges)[0:10])"
   ]
  },
  {
   "cell_type": "code",
   "execution_count": 6,
   "metadata": {},
   "outputs": [
    {
     "name": "stdout",
     "output_type": "stream",
     "text": [
      "['3', '25', '5', '6', '7', '8', '9', '10', '11', '14', '15', '17', '19', '20', '21', '24', '28', '214', '299', '356', '373', '394', '33', '34', '36', '35', '37', '38', '39', '40', '26', '41', '42', '43', '44', '45', '46', '47', '48', '49', '50', '51', '52', '53', '29']\n"
     ]
    }
   ],
   "source": [
    "print (list(g.neighbors('54')))"
   ]
  },
  {
   "cell_type": "markdown",
   "metadata": {},
   "source": [
    "**Part 2: Basic Analysis**"
   ]
  },
  {
   "cell_type": "code",
   "execution_count": 7,
   "metadata": {
    "scrolled": true
   },
   "outputs": [],
   "source": [
    "\n",
    "node_cnt = g.number_of_nodes()\n",
    "edge_cnt = len(g.edges)\n",
    "avg_edges_p_node = round(edge_cnt/node_cnt)\n",
    "\n",
    "neighbor_cnts = [len(list(g.neighbors(node))) for node in g.nodes]\n",
    "min_neighb = min(neighbor_cnts)\n",
    "max_neighb = max(neighbor_cnts)"
   ]
  },
  {
   "cell_type": "code",
   "execution_count": 12,
   "metadata": {},
   "outputs": [],
   "source": [
    "# Compute graph diameter using the formula\n",
    "\n",
    "diameter = max([max(j.values()) for (i,j) in nx.shortest_path_length(g)])"
   ]
  },
  {
   "cell_type": "markdown",
   "metadata": {},
   "source": [
    "Graph diameter is the length of the \"longest shortest path\" between two nodes of a graph [1]."
   ]
  },
  {
   "cell_type": "code",
   "execution_count": 9,
   "metadata": {},
   "outputs": [],
   "source": [
    "# Compute the average clustering coefficient\n",
    "avg_clust_c = nx.algorithms.average_clustering(g)"
   ]
  },
  {
   "cell_type": "markdown",
   "metadata": {},
   "source": [
    "The local clustering of each node in G is the fraction of triangles that actually exist over all possible triangles in its neighborhood. The average clustering coefficient of a graph G is the mean of local clusterings.\n",
    "  \n",
    "Networkx calculates the approximate global clustering coefficient of the network by conducting the following experiment multiple times (1000 by default): \"choose a node at random, choose two of its neighbors at random, and check if they are connected. The approximate coefficient is the fraction of triangles found over the number of trials [2]\".\n",
    "    "
   ]
  },
  {
   "cell_type": "code",
   "execution_count": 10,
   "metadata": {},
   "outputs": [
    {
     "name": "stdout",
     "output_type": "stream",
     "text": [
      "Count of nodes: 7115\n",
      " Count of edges: 100762\n",
      " Average edges per node: 14\n",
      " Minimum neighbors per node: 1\n",
      " Maximum neighbors per node: 1065\n",
      " Graph diameter: 7\n",
      " Avg. clustering coefficient: 0.14\n",
      "\n"
     ]
    }
   ],
   "source": [
    "txt = \"Count of nodes: {}\\n Count of edges: {}\\n Average edges per node: {}\\n Minimum neighbors per node: {}\\n Maximum neighbors per node: {}\\n Graph diameter: {}\\n Avg. clustering coefficient: {}\\n\"\n",
    "print(txt.format(node_cnt,edge_cnt,avg_edges_p_node,min_neighb,max_neighb,diameter, round(avg_clust_c,2)))"
   ]
  },
  {
   "cell_type": "markdown",
   "metadata": {},
   "source": [
    "**Part 3: Display the graph**  \n",
    "I have chosen Gephi to visualize the graph."
   ]
  },
  {
   "cell_type": "code",
   "execution_count": 11,
   "metadata": {},
   "outputs": [],
   "source": [
    "# Saving into Gephi-compatible format\n",
    "output_file = \"wikivote.gexf\"\n",
    "nx.write_gexf(g,data_path + output_file)"
   ]
  },
  {
   "cell_type": "markdown",
   "metadata": {},
   "source": [
    "I have applied the Fruchterman Reingold layout in Gephi in order to see the wiki voted users:"
   ]
  },
  {
   "cell_type": "markdown",
   "metadata": {},
   "source": [
    "![image info](https://raw.githubusercontent.com/ahussan/DATA_620_GROUP5/main/Week3/data/wiki.gif)\n"
   ]
  },
  {
   "cell_type": "markdown",
   "metadata": {},
   "source": [
    "**Part 4: Video**\n"
   ]
  },
  {
   "cell_type": "markdown",
   "metadata": {},
   "source": [
    "### Reference\n",
    "  \n",
    "1. http://mathworld.wolfram.com/GraphDiameter.html\n",
    "2. https://snap.stanford.edu/data/wiki-Vote.html"
   ]
  }
 ],
 "metadata": {
  "kernelspec": {
   "display_name": "Python 3 (ipykernel)",
   "language": "python",
   "name": "python3"
  },
  "language_info": {
   "codemirror_mode": {
    "name": "ipython",
    "version": 3
   },
   "file_extension": ".py",
   "mimetype": "text/x-python",
   "name": "python",
   "nbconvert_exporter": "python",
   "pygments_lexer": "ipython3",
   "version": "3.9.6"
  }
 },
 "nbformat": 4,
 "nbformat_minor": 2
}
