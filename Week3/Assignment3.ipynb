{
 "cells": [
  {
   "cell_type": "markdown",
   "metadata": {},
   "source": [
    "\n",
    "### DATA 620 \n",
    "### Week 3 Homework Assigment \n",
    "By Anjal Hussan, Zhouxin Shi, Chunjie Nan\n",
    "\n",
    "-----\n"
   ]
  },
  {
   "cell_type": "markdown",
   "metadata": {},
   "source": [
    "**Assignment**  \n",
    "\n",
    "*1. Load a graph database of your choosing from a text file or other source. If you take a\n",
    "large network dataset from the web (such as from https://snap.stanford.edu/data/), please\n",
    "feel free at this point to load just a small subset of the nodes and edges.*  \n",
    "\n",
    "*2. Create basic analysis on the graph, including the graph’s diameter, and at least one other\n",
    "metric of your choosing. You may either code the functions by hand (to build your\n",
    "intuition and insight), or use functions in an existing package.*  \n",
    "\n",
    "*3. Use a visualization tool of your choice (Neo4j, Gephi, etc.) to display information.*  \n",
    "\n",
    "*4. Please record a short video (~ 5 minutes), and submit a link to the video as part of your\n",
    "homework submission.*\n",
    "\n",
    "  \n",
    "----\n",
    "\n"
   ]
  },
  {
   "cell_type": "markdown",
   "metadata": {},
   "source": [
    "Presentation: `https://www.youtube.com/watch?v=-IyX6m5jh3k`"
   ]
  },
  {
   "cell_type": "code",
   "execution_count": null,
   "metadata": {},
   "outputs": [],
   "source": []
  },
  {
   "cell_type": "markdown",
   "metadata": {},
   "source": [
    "**Solution**\n",
    "  \n",
    "**Part 1: Load graph**  \n",
    "I have picked a relatively small graph of the connections between anonymized wiki vote users from https://snap.stanford.edu/data/wiki-Vote.html.  \n",
    "It is an directed graph that hopefully will show some groups of friends in the visualization stage."
   ]
  },
  {
   "cell_type": "code",
   "execution_count": 2,
   "metadata": {},
   "outputs": [],
   "source": [
    "# Setup\n",
    "import matplotlib.pyplot as plt \n",
    "import networkx as nx\n",
    "\n",
    "data_path = \"data/\"\n",
    "filename = \"wiki-Vote.txt.gz\""
   ]
  },
  {
   "cell_type": "markdown",
   "metadata": {},
   "source": [
    "Let's find out how many nodes are there in this directed dataset"
   ]
  },
  {
   "cell_type": "code",
   "execution_count": 41,
   "metadata": {},
   "outputs": [
    {
     "name": "stdout",
     "output_type": "stream",
     "text": [
      "7115\n"
     ]
    }
   ],
   "source": [
    "print(g.number_of_nodes())"
   ]
  },
  {
   "cell_type": "markdown",
   "metadata": {},
   "source": [
    "Let's find out how many edges are there in the dataset\n"
   ]
  },
  {
   "cell_type": "code",
   "execution_count": 42,
   "metadata": {},
   "outputs": [
    {
     "name": "stdout",
     "output_type": "stream",
     "text": [
      "100762\n"
     ]
    }
   ],
   "source": [
    "print(g.number_of_edges())"
   ]
  },
  {
   "cell_type": "code",
   "execution_count": 43,
   "metadata": {},
   "outputs": [
    {
     "name": "stdout",
     "output_type": "stream",
     "text": [
      "[('30', '1412', {}), ('30', '3352', {}), ('30', '5254', {}), ('30', '5543', {}), ('30', '7478', {}), ('30', '3', {}), ('30', '25', {}), ('30', '4', {}), ('30', '5', {}), ('30', '6', {})]\n"
     ]
    }
   ],
   "source": [
    "print(list(g.edges(data=True))[0:10])"
   ]
  },
  {
   "cell_type": "code",
   "execution_count": 45,
   "metadata": {},
   "outputs": [
    {
     "name": "stdout",
     "output_type": "stream",
     "text": [
      "['30', '24', '44', '47', '58', '27', '72', '71', '87', '68', '109', '122', '127', '173', '166', '203', '232', '237', '259', '265', '275', '311', '351', '383', '457', '546', '553', '600', '637', '737', '749', '766', '769', '789', '791', '816', '854', '865', '469', '896', '996', '1008', '1042', '1055', '1074', '1075', '1087', '1111', '1133', '1151', '1166', '1179', '1210', '1353', '1374', '1473', '1497', '1548', '1549', '1603', '1691', '1701', '1717', '1733', '1762', '1767', '1796', '1808', '1835', '1847', '1874', '1876', '1937', '1935', '2033', '2065', '2135', '2145', '2160', '2188', '2240', '2264', '2276', '2294', '2369', '2381', '2485', '2502', '2507', '2535', '2562', '2576', '2595', '2623', '2620', '2657', '2680', '2688', '2660', '2693', '2727', '2744', '2752', '2790', '2851', '2905', '2972', '3032', '3084', '3088', '3132', '3190', '3270', '3340', '3345', '3381', '3403', '3439', '3453', '3456', '3459', '3462', '3498', '3522', '3568', '3586', '3603', '3631', '3636', '3642', '3786', '3787', '3813', '3910', '3960', '4036', '4144', '4151', '4221', '4297', '4338', '4416', '4483', '4489', '4536', '4630', '4687', '4717', '4712', '4764', '4792', '4843', '4862', '4967', '4982', '5002', '5011', '5017', '5022', '5028', '5079', '5102', '5150', '5166', '4795', '5177', '4310', '5179', '5181', '5185', '5188', '5196', '840', '2398', '2689', '3089', '4191', '4361', '4713', '5178', '5321', '5412', '5714', '5807', '5822', '5839', '6299', '6496', '6566', '6628', '6707', '6765', '6832', '6840', '6860', '6946', '7144', '7620', '7632', '7835', '7890', '5262', '5317', '5341', '5404', '5424', '5430', '5524', '5526', '5531', '5532', '5549', '5584', '5591', '5612', '5616', '5630', '5655', '5657', '5696', '5697', '5708', '5739', '5741', '5796', '5802', '5810', '5814', '5816', '5817', '5819', '5821', '5823', '5827', '5862', '4767', '5908', '5871', '5932', '5933', '5940', '5998', '5999', '6006', '6134', '6190', '6208', '6217', '6218', '6220', '6221', '6223', '6243', '6272', '6305', '6323', '6325', '6359', '6298', '6327', '5965', '6440', '6443', '6467', '6479', '6483', '6486', '6488', '6494', '6501', '6510', '6522', '5273', '6563', '6577', '6552', '6608', '6627', '6643', '6644', '6645', '6646', '6647', '6655', '6648', '6649', '6650', '6651', '6652', '6653', '6654']\n"
     ]
    }
   ],
   "source": [
    "print (list(g.neighbors('5254')))"
   ]
  },
  {
   "cell_type": "markdown",
   "metadata": {},
   "source": [
    "Let's take a look to few of the nodes"
   ]
  },
  {
   "cell_type": "code",
   "execution_count": 4,
   "metadata": {},
   "outputs": [
    {
     "name": "stdout",
     "output_type": "stream",
     "text": [
      "30\n",
      "1412\n",
      "3352\n",
      "5254\n",
      "5543\n",
      "7478\n",
      "3\n",
      "28\n",
      "39\n",
      "54\n"
     ]
    }
   ],
   "source": [
    "for index,node in enumerate(g.nodes):\n",
    "    if index == 10:\n",
    "        break\n",
    "    print(node)"
   ]
  },
  {
   "cell_type": "code",
   "execution_count": 5,
   "metadata": {},
   "outputs": [
    {
     "name": "stdout",
     "output_type": "stream",
     "text": [
      "[('30', '1412'), ('30', '3352'), ('30', '5254'), ('30', '5543'), ('30', '7478'), ('30', '3'), ('30', '25'), ('30', '4'), ('30', '5'), ('30', '6')]\n"
     ]
    }
   ],
   "source": [
    "print(list(g.edges)[0:10])"
   ]
  },
  {
   "cell_type": "code",
   "execution_count": 6,
   "metadata": {},
   "outputs": [
    {
     "name": "stdout",
     "output_type": "stream",
     "text": [
      "['3', '25', '5', '6', '7', '8', '9', '10', '11', '14', '15', '17', '19', '20', '21', '24', '28', '214', '299', '356', '373', '394', '33', '34', '36', '35', '37', '38', '39', '40', '26', '41', '42', '43', '44', '45', '46', '47', '48', '49', '50', '51', '52', '53', '29']\n"
     ]
    }
   ],
   "source": [
    "print (list(g.neighbors('54')))"
   ]
  },
  {
   "cell_type": "markdown",
   "metadata": {},
   "source": [
    "From the above initial interaction with the graph object, We can confirm that we have sucessfully loaded the data using networkX and is recognized as a graph object.\n"
   ]
  },
  {
   "cell_type": "markdown",
   "metadata": {},
   "source": [
    "**Part 2: Basic Analysis**"
   ]
  },
  {
   "cell_type": "code",
   "execution_count": 46,
   "metadata": {
    "scrolled": true
   },
   "outputs": [
    {
     "name": "stdout",
     "output_type": "stream",
     "text": [
      "Average edges per node:14\n"
     ]
    }
   ],
   "source": [
    "\n",
    "node_cnt = g.number_of_nodes()\n",
    "edge_cnt = len(g.edges)\n",
    "avg_edges_p_node = round(edge_cnt/node_cnt)\n",
    "print('Average edges per node:' + str(avg_edges_p_node))\n"
   ]
  },
  {
   "cell_type": "code",
   "execution_count": 47,
   "metadata": {},
   "outputs": [
    {
     "name": "stdout",
     "output_type": "stream",
     "text": [
      "Max number of neighbor is :1065\n"
     ]
    }
   ],
   "source": [
    "neighbor_cnts = [len(list(g.neighbors(node))) for node in g.nodes]\n",
    "min_neighb = min(neighbor_cnts)\n",
    "max_neighb = max(neighbor_cnts)\n",
    "print('Max number of neighbor is :' + str(max_neighb))"
   ]
  },
  {
   "cell_type": "markdown",
   "metadata": {},
   "source": [
    "Let's take a look if our graph is a connected graph or not:\n"
   ]
  },
  {
   "cell_type": "code",
   "execution_count": 48,
   "metadata": {},
   "outputs": [
    {
     "data": {
      "text/plain": [
       "False"
      ]
     },
     "execution_count": 48,
     "metadata": {},
     "output_type": "execute_result"
    }
   ],
   "source": [
    "nx.is_connected(g)"
   ]
  },
  {
   "cell_type": "markdown",
   "metadata": {},
   "source": [
    "Since the graph is not connected, we cannot compute diameter of the graph. Diameter of the graph can't be calculated for 1) a weakly-connected directed graph or 2) a disconnected graph. That is why the built in method algorithms.diameter() will not work for our graph.\n",
    "\n"
   ]
  },
  {
   "cell_type": "markdown",
   "metadata": {},
   "source": [
    "But we can find the maximum distance of a list containing the shortest paths between any two nodes in our graph (computed with Dijkstra's algorithm), regardless of what component they may belong to."
   ]
  },
  {
   "cell_type": "markdown",
   "metadata": {},
   "source": [
    "Technically, diameter is infinite for disconnected graphs which is why NetworkX's built-in method does not work. The method bellow will find the largest diameter amongst all components within our graph, but is not the diameter of the graph itself."
   ]
  },
  {
   "cell_type": "code",
   "execution_count": 51,
   "metadata": {},
   "outputs": [
    {
     "name": "stdout",
     "output_type": "stream",
     "text": [
      "7\n"
     ]
    }
   ],
   "source": [
    "diameter = max([max(j.values()) for (i,j) in nx.shortest_path_length(g)])\n",
    "print(diameter)"
   ]
  },
  {
   "cell_type": "markdown",
   "metadata": {},
   "source": [
    "Graph diameter is the length of the \"longest shortest path\" between two nodes of a graph [1]."
   ]
  },
  {
   "cell_type": "code",
   "execution_count": 9,
   "metadata": {},
   "outputs": [],
   "source": [
    "# Compute the average clustering coefficient\n",
    "avg_clust_c = nx.algorithms.average_clustering(g)"
   ]
  },
  {
   "cell_type": "markdown",
   "metadata": {},
   "source": [
    "The local clustering of each node in G is the fraction of triangles that actually exist over all possible triangles in its neighborhood. The average clustering coefficient of a graph G is the mean of local clusterings.\n",
    "  \n",
    "Networkx calculates the approximate global clustering coefficient of the network by conducting the following experiment multiple times (1000 by default): \"choose a node at random, choose two of its neighbors at random, and check if they are connected. The approximate coefficient is the fraction of triangles found over the number of trials [2]\".\n",
    "    "
   ]
  },
  {
   "cell_type": "code",
   "execution_count": 10,
   "metadata": {},
   "outputs": [
    {
     "name": "stdout",
     "output_type": "stream",
     "text": [
      "Count of nodes: 7115\n",
      " Count of edges: 100762\n",
      " Average edges per node: 14\n",
      " Minimum neighbors per node: 1\n",
      " Maximum neighbors per node: 1065\n",
      " Graph diameter: 7\n",
      " Avg. clustering coefficient: 0.14\n",
      "\n"
     ]
    }
   ],
   "source": [
    "txt = \"Count of nodes: {}\\n Count of edges: {}\\n Average edges per node: {}\\n Minimum neighbors per node: {}\\n Maximum neighbors per node: {}\\n Graph diameter: {}\\n Avg. clustering coefficient: {}\\n\"\n",
    "print(txt.format(node_cnt,edge_cnt,avg_edges_p_node,min_neighb,max_neighb,diameter, round(avg_clust_c,2)))"
   ]
  },
  {
   "cell_type": "markdown",
   "metadata": {},
   "source": [
    "**Part 3: Display the graph**  \n",
    "I have chosen Gephi to visualize the graph."
   ]
  },
  {
   "cell_type": "code",
   "execution_count": 11,
   "metadata": {},
   "outputs": [],
   "source": [
    "# Saving into Gephi-compatible format\n",
    "output_file = \"wikivote.gexf\"\n",
    "nx.write_gexf(g,data_path + output_file)"
   ]
  },
  {
   "cell_type": "markdown",
   "metadata": {},
   "source": [
    "I have applied the Fruchterman Reingold layout in Gephi in order to see the wiki voted users:"
   ]
  },
  {
   "cell_type": "markdown",
   "metadata": {},
   "source": [
    "![image info](https://raw.githubusercontent.com/ahussan/DATA_620_GROUP5/jshi361/Week3/data/wiki.gif)\n"
   ]
  },
  {
   "cell_type": "markdown",
   "metadata": {},
   "source": [
    "**Part 4: Video**\n"
   ]
  },
  {
   "cell_type": "markdown",
   "metadata": {},
   "source": [
    "### Reference\n",
    "  \n",
    "1. http://mathworld.wolfram.com/GraphDiameter.html\n",
    "2. https://snap.stanford.edu/data/wiki-Vote.html"
   ]
  }
 ],
 "metadata": {
  "kernelspec": {
   "display_name": "Python 3",
   "language": "python",
   "name": "python3"
  },
  "language_info": {
   "codemirror_mode": {
    "name": "ipython",
    "version": 3
   },
   "file_extension": ".py",
   "mimetype": "text/x-python",
   "name": "python",
   "nbconvert_exporter": "python",
   "pygments_lexer": "ipython3",
   "version": "3.8.12"
  }
 },
 "nbformat": 4,
 "nbformat_minor": 4
}
