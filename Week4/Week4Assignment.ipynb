{
 "cells": [
  {
   "cell_type": "markdown",
   "id": "69160d2a",
   "metadata": {},
   "source": [
    "### Data 620 – Week 4 Assignment"
   ]
  },
  {
   "cell_type": "markdown",
   "id": "d08e7747",
   "metadata": {},
   "source": [
    "#### Group 5 \n",
    "- Anjal Hussan, Zhouxin Shi, Chunjie Nan\n",
    "\n"
   ]
  },
  {
   "cell_type": "markdown",
   "id": "82f529bb",
   "metadata": {},
   "source": [
    "#### Requirements"
   ]
  },
  {
   "cell_type": "markdown",
   "id": "ec7fd76e",
   "metadata": {},
   "source": [
    "Centrality measures can be used to predict (positive or negative) outcomes for a node.\n",
    "Your task in this week’s assignment is to identify an interesting set of network data that is available on the web (either through web scraping or web APIs) that could be used for analyzing and comparing centrality measures across nodes.  \n",
    "As an additional constraint, there should be at least one categorical variable available for each node (such as “Male” or “Female”; “Republican”, “Democrat,” or “Undecided”, etc.)\n",
    "In addition to identifying your data source, you should create a high-level plan that describes how you would load the data for analysis and describe a hypothetical outcome that could be predicted from comparing degree centrality across categorical groups.\n"
   ]
  },
  {
   "cell_type": "markdown",
   "id": "4693edab",
   "metadata": {},
   "source": [
    "#### Data Set"
   ]
  },
  {
   "cell_type": "markdown",
   "id": "a0f0e450",
   "metadata": {},
   "source": [
    "Source: https://www.kaggle.com/sujan97/analyzing-citibike-system-eda/notebook\n",
    "CitiBike is New York City’s bike share system, and the largest in the nation. CitiBike launched in May 2013 and has become an essential part of transportation network. They make commute fun, efficient and affordable – not to mention healthy and good for the environment.\n",
    "- This project looks at 'gender', 'start station id', 'start station name', 'end station id, and 'end station name'.\n",
    "-\tThe nodes represent stations.\n",
    "-\tEdge represents bike pickup station to bike drop off station.\n",
    "- The categorical variable we will use is gender. \n"
   ]
  },
  {
   "cell_type": "markdown",
   "id": "5fef8f4c",
   "metadata": {},
   "source": [
    "#### High-level Plan for Loading Data for Analysis"
   ]
  },
  {
   "cell_type": "markdown",
   "id": "e1f7026a",
   "metadata": {},
   "source": [
    "The Pandas package will be used to load the dataset into the data frame. The dataset will be split into male and female dataframes. Degree and eigenvector centrality are computed independently for each group. For each group, weights will be calculated for each edge. The weights describe the amount of traffic between the pick-up and drop-off stations. The weights are used when calculating the eigenvector centrality for each node."
   ]
  },
  {
   "cell_type": "markdown",
   "id": "1e6c1c59",
   "metadata": {},
   "source": [
    "#### Hypothetical Outcome that could be Predicted from Comparing Degree Centrality Across Categorical Groups"
   ]
  },
  {
   "cell_type": "markdown",
   "id": "918e92b4",
   "metadata": {},
   "source": [
    "The dataset is a directed graph. It tells us where the cyclist picks up the bike and where the bike gets dropped off. By calculating the in-degree centrality of each stop, we can get an idea of the number of in-bounds at a particular drop-off site. Stations with a high degree of centrality may be locations where various population groups from different geographic areas come together.\n",
    "A station with high eigenvector centrality may be a station frequented by many cyclists and/or a station connected to several stations with high centrality.\n",
    "One possible application of this information is to help identify key ad placements for certain demographics.\n"
   ]
  }
 ],
 "metadata": {
  "kernelspec": {
   "display_name": "Python 3 (ipykernel)",
   "language": "python",
   "name": "python3"
  },
  "language_info": {
   "codemirror_mode": {
    "name": "ipython",
    "version": 3
   },
   "file_extension": ".py",
   "mimetype": "text/x-python",
   "name": "python",
   "nbconvert_exporter": "python",
   "pygments_lexer": "ipython3",
   "version": "3.9.6"
  }
 },
 "nbformat": 4,
 "nbformat_minor": 5
}
